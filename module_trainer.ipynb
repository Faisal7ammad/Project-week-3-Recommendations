{
 "cells": [
  {
   "cell_type": "markdown",
   "metadata": {
    "toc": true
   },
   "source": [
    "<h1>Table of Contents<span class=\"tocSkip\"></span></h1>\n",
    "<div class=\"toc\"><ul class=\"toc-item\"></ul></div>"
   ]
  },
  {
   "cell_type": "code",
   "execution_count": 2,
   "metadata": {
    "ExecuteTime": {
     "end_time": "2021-04-08T19:50:58.801253Z",
     "start_time": "2021-04-08T19:50:57.408839Z"
    }
   },
   "outputs": [],
   "source": [
    "import pandas as pd\n",
    "from sklearn.preprocessing import StandardScaler\n",
    "from sklearn.cluster import KMeans\n",
    "from sklearn.metrics import silhouette_score"
   ]
  },
  {
   "cell_type": "code",
   "execution_count": 3,
   "metadata": {
    "ExecuteTime": {
     "end_time": "2021-04-08T19:50:58.877288Z",
     "start_time": "2021-04-08T19:50:58.803743Z"
    }
   },
   "outputs": [],
   "source": [
    "features = pd.read_csv(\"/Users/FH/Desktop/Ironhack/Github/Project-week-3-Recommendations/Data/audio_features.csv\")"
   ]
  },
  {
   "cell_type": "code",
   "execution_count": 4,
   "metadata": {
    "ExecuteTime": {
     "end_time": "2021-04-08T19:50:58.885877Z",
     "start_time": "2021-04-08T19:50:58.880118Z"
    }
   },
   "outputs": [],
   "source": [
    "features = features.drop(columns = [\"type\", \"id\", \"uri\", \"track_href\", \"analysis_url\", \"duration_ms\", \"time_signature\"])\n"
   ]
  },
  {
   "cell_type": "code",
   "execution_count": 5,
   "metadata": {
    "ExecuteTime": {
     "end_time": "2021-04-08T19:50:58.900011Z",
     "start_time": "2021-04-08T19:50:58.888665Z"
    }
   },
   "outputs": [],
   "source": [
    "standardized_features = StandardScaler().fit_transform(features)"
   ]
  },
  {
   "cell_type": "code",
   "execution_count": 6,
   "metadata": {
    "ExecuteTime": {
     "end_time": "2021-04-08T19:50:58.929861Z",
     "start_time": "2021-04-08T19:50:58.902491Z"
    },
    "scrolled": false
   },
   "outputs": [
    {
     "data": {
      "text/html": [
       "<div>\n",
       "<style scoped>\n",
       "    .dataframe tbody tr th:only-of-type {\n",
       "        vertical-align: middle;\n",
       "    }\n",
       "\n",
       "    .dataframe tbody tr th {\n",
       "        vertical-align: top;\n",
       "    }\n",
       "\n",
       "    .dataframe thead th {\n",
       "        text-align: right;\n",
       "    }\n",
       "</style>\n",
       "<table border=\"1\" class=\"dataframe\">\n",
       "  <thead>\n",
       "    <tr style=\"text-align: right;\">\n",
       "      <th></th>\n",
       "      <th>danceability</th>\n",
       "      <th>energy</th>\n",
       "      <th>key</th>\n",
       "      <th>loudness</th>\n",
       "      <th>mode</th>\n",
       "      <th>speechiness</th>\n",
       "      <th>acousticness</th>\n",
       "      <th>instrumentalness</th>\n",
       "      <th>liveness</th>\n",
       "      <th>valence</th>\n",
       "      <th>tempo</th>\n",
       "    </tr>\n",
       "  </thead>\n",
       "  <tbody>\n",
       "    <tr>\n",
       "      <th>0</th>\n",
       "      <td>0.028516</td>\n",
       "      <td>0.533745</td>\n",
       "      <td>1.583029</td>\n",
       "      <td>0.882386</td>\n",
       "      <td>-1.227129</td>\n",
       "      <td>-0.348987</td>\n",
       "      <td>-0.603896</td>\n",
       "      <td>-0.360343</td>\n",
       "      <td>-0.556087</td>\n",
       "      <td>-0.835848</td>\n",
       "      <td>-0.542031</td>\n",
       "    </tr>\n",
       "    <tr>\n",
       "      <th>1</th>\n",
       "      <td>0.207751</td>\n",
       "      <td>0.730109</td>\n",
       "      <td>1.026887</td>\n",
       "      <td>0.581212</td>\n",
       "      <td>-1.227129</td>\n",
       "      <td>-0.702185</td>\n",
       "      <td>-0.067120</td>\n",
       "      <td>-0.303999</td>\n",
       "      <td>0.181678</td>\n",
       "      <td>-0.273524</td>\n",
       "      <td>0.127062</td>\n",
       "    </tr>\n",
       "    <tr>\n",
       "      <th>2</th>\n",
       "      <td>0.431794</td>\n",
       "      <td>0.115181</td>\n",
       "      <td>0.470745</td>\n",
       "      <td>0.246227</td>\n",
       "      <td>0.814910</td>\n",
       "      <td>-0.621105</td>\n",
       "      <td>-0.719452</td>\n",
       "      <td>-0.360299</td>\n",
       "      <td>0.472902</td>\n",
       "      <td>-0.055309</td>\n",
       "      <td>-0.353244</td>\n",
       "    </tr>\n",
       "    <tr>\n",
       "      <th>3</th>\n",
       "      <td>0.547017</td>\n",
       "      <td>-0.334387</td>\n",
       "      <td>0.748816</td>\n",
       "      <td>0.283796</td>\n",
       "      <td>0.814910</td>\n",
       "      <td>-0.547800</td>\n",
       "      <td>-0.346277</td>\n",
       "      <td>-0.360343</td>\n",
       "      <td>-0.575502</td>\n",
       "      <td>-1.624780</td>\n",
       "      <td>-0.239787</td>\n",
       "    </tr>\n",
       "    <tr>\n",
       "      <th>4</th>\n",
       "      <td>-1.386158</td>\n",
       "      <td>-1.435055</td>\n",
       "      <td>0.192673</td>\n",
       "      <td>-0.671068</td>\n",
       "      <td>-1.227129</td>\n",
       "      <td>0.921637</td>\n",
       "      <td>1.962356</td>\n",
       "      <td>-0.360343</td>\n",
       "      <td>-0.594270</td>\n",
       "      <td>-1.150581</td>\n",
       "      <td>2.047252</td>\n",
       "    </tr>\n",
       "    <tr>\n",
       "      <th>...</th>\n",
       "      <td>...</td>\n",
       "      <td>...</td>\n",
       "      <td>...</td>\n",
       "      <td>...</td>\n",
       "      <td>...</td>\n",
       "      <td>...</td>\n",
       "      <td>...</td>\n",
       "      <td>...</td>\n",
       "      <td>...</td>\n",
       "      <td>...</td>\n",
       "      <td>...</td>\n",
       "    </tr>\n",
       "    <tr>\n",
       "      <th>13925</th>\n",
       "      <td>1.161536</td>\n",
       "      <td>-0.701276</td>\n",
       "      <td>-1.475753</td>\n",
       "      <td>0.483847</td>\n",
       "      <td>0.814910</td>\n",
       "      <td>-0.555575</td>\n",
       "      <td>-0.075404</td>\n",
       "      <td>-0.360237</td>\n",
       "      <td>-0.875785</td>\n",
       "      <td>1.866664</td>\n",
       "      <td>-0.245445</td>\n",
       "    </tr>\n",
       "    <tr>\n",
       "      <th>13926</th>\n",
       "      <td>0.873480</td>\n",
       "      <td>-0.417066</td>\n",
       "      <td>1.304958</td>\n",
       "      <td>-0.708637</td>\n",
       "      <td>0.814910</td>\n",
       "      <td>-0.436731</td>\n",
       "      <td>-0.004994</td>\n",
       "      <td>-0.360343</td>\n",
       "      <td>-0.609802</td>\n",
       "      <td>1.778539</td>\n",
       "      <td>-0.169376</td>\n",
       "    </tr>\n",
       "    <tr>\n",
       "      <th>13927</th>\n",
       "      <td>0.425393</td>\n",
       "      <td>0.290875</td>\n",
       "      <td>0.192673</td>\n",
       "      <td>0.100963</td>\n",
       "      <td>0.814910</td>\n",
       "      <td>-0.520033</td>\n",
       "      <td>0.794372</td>\n",
       "      <td>-0.360343</td>\n",
       "      <td>2.673255</td>\n",
       "      <td>1.614877</td>\n",
       "      <td>-0.424728</td>\n",
       "    </tr>\n",
       "    <tr>\n",
       "      <th>13928</th>\n",
       "      <td>1.027110</td>\n",
       "      <td>0.099679</td>\n",
       "      <td>-1.475753</td>\n",
       "      <td>-0.029274</td>\n",
       "      <td>0.814910</td>\n",
       "      <td>-0.634434</td>\n",
       "      <td>1.096722</td>\n",
       "      <td>0.319672</td>\n",
       "      <td>-0.644101</td>\n",
       "      <td>1.887646</td>\n",
       "      <td>-0.227213</td>\n",
       "    </tr>\n",
       "    <tr>\n",
       "      <th>13929</th>\n",
       "      <td>-1.008485</td>\n",
       "      <td>-0.091517</td>\n",
       "      <td>0.192673</td>\n",
       "      <td>-0.816020</td>\n",
       "      <td>-1.227129</td>\n",
       "      <td>0.233012</td>\n",
       "      <td>0.272506</td>\n",
       "      <td>-0.360328</td>\n",
       "      <td>-0.562559</td>\n",
       "      <td>1.363090</td>\n",
       "      <td>-1.216634</td>\n",
       "    </tr>\n",
       "  </tbody>\n",
       "</table>\n",
       "<p>13930 rows × 11 columns</p>\n",
       "</div>"
      ],
      "text/plain": [
       "       danceability    energy       key  loudness      mode  speechiness  \\\n",
       "0          0.028516  0.533745  1.583029  0.882386 -1.227129    -0.348987   \n",
       "1          0.207751  0.730109  1.026887  0.581212 -1.227129    -0.702185   \n",
       "2          0.431794  0.115181  0.470745  0.246227  0.814910    -0.621105   \n",
       "3          0.547017 -0.334387  0.748816  0.283796  0.814910    -0.547800   \n",
       "4         -1.386158 -1.435055  0.192673 -0.671068 -1.227129     0.921637   \n",
       "...             ...       ...       ...       ...       ...          ...   \n",
       "13925      1.161536 -0.701276 -1.475753  0.483847  0.814910    -0.555575   \n",
       "13926      0.873480 -0.417066  1.304958 -0.708637  0.814910    -0.436731   \n",
       "13927      0.425393  0.290875  0.192673  0.100963  0.814910    -0.520033   \n",
       "13928      1.027110  0.099679 -1.475753 -0.029274  0.814910    -0.634434   \n",
       "13929     -1.008485 -0.091517  0.192673 -0.816020 -1.227129     0.233012   \n",
       "\n",
       "       acousticness  instrumentalness  liveness   valence     tempo  \n",
       "0         -0.603896         -0.360343 -0.556087 -0.835848 -0.542031  \n",
       "1         -0.067120         -0.303999  0.181678 -0.273524  0.127062  \n",
       "2         -0.719452         -0.360299  0.472902 -0.055309 -0.353244  \n",
       "3         -0.346277         -0.360343 -0.575502 -1.624780 -0.239787  \n",
       "4          1.962356         -0.360343 -0.594270 -1.150581  2.047252  \n",
       "...             ...               ...       ...       ...       ...  \n",
       "13925     -0.075404         -0.360237 -0.875785  1.866664 -0.245445  \n",
       "13926     -0.004994         -0.360343 -0.609802  1.778539 -0.169376  \n",
       "13927      0.794372         -0.360343  2.673255  1.614877 -0.424728  \n",
       "13928      1.096722          0.319672 -0.644101  1.887646 -0.227213  \n",
       "13929      0.272506         -0.360328 -0.562559  1.363090 -1.216634  \n",
       "\n",
       "[13930 rows x 11 columns]"
      ]
     },
     "execution_count": 6,
     "metadata": {},
     "output_type": "execute_result"
    }
   ],
   "source": [
    "pd.DataFrame(standardized_features, columns=features.columns)"
   ]
  },
  {
   "cell_type": "code",
   "execution_count": 7,
   "metadata": {
    "ExecuteTime": {
     "end_time": "2021-04-08T19:51:10.085274Z",
     "start_time": "2021-04-08T19:50:58.933373Z"
    }
   },
   "outputs": [
    {
     "name": "stdout",
     "output_type": "stream",
     "text": [
      "[4265358.893205605, 1856633.61972441, 1337495.1241155637, 965960.2016674426, 802164.899575042, 678524.3007936686, 602832.5996625363, 539083.8534067164, 502144.80974637595, 471771.7851907726, 442886.50406736415, 420703.72930093535, 402788.8470387291, 384787.56690530706, 369111.09157903446, 352452.11193063675, 342975.88980426686, 330740.1602756258, 321826.46665921283, 306436.7636857629, 298096.9267553027, 288924.1273086184, 281444.4696738021]\n"
     ]
    }
   ],
   "source": [
    "inertia = []\n",
    "for i in range(2,25):\n",
    "    k_mean = KMeans(n_clusters=i, random_state=32)\n",
    "    k_mean.fit(features)\n",
    "    inertia.append(k_mean.inertia_)\n",
    "\n",
    "print(inertia)"
   ]
  },
  {
   "cell_type": "code",
   "execution_count": 8,
   "metadata": {
    "ExecuteTime": {
     "end_time": "2021-04-08T19:51:10.547790Z",
     "start_time": "2021-04-08T19:51:10.087570Z"
    }
   },
   "outputs": [
    {
     "data": {
      "text/plain": [
       "Text(0.5, 1.0, 'Elbow Method showing the optimal k')"
      ]
     },
     "execution_count": 8,
     "metadata": {},
     "output_type": "execute_result"
    },
    {
     "data": {
      "image/png": "[encoded data removed]",
      "text/plain": [
       "<Figure size 1152x576 with 1 Axes>"
      ]
     },
     "metadata": {
      "needs_background": "light"
     },
     "output_type": "display_data"
    }
   ],
   "source": [
    "import matplotlib.pyplot as plt\n",
    "%matplotlib inline\n",
    "\n",
    "plt.figure(figsize=(16,8))\n",
    "plt.plot(range(2,25), inertia, 'bx-')\n",
    "plt.xlabel('k')\n",
    "plt.ylabel('inertia')\n",
    "plt.xticks(np.arange(min(range(2,25)), max(range(2,25))+1, 1.0))\n",
    "plt.title('Elbow Method showing the optimal k')"
   ]
  },
  {
   "cell_type": "code",
   "execution_count": 9,
   "metadata": {
    "ExecuteTime": {
     "end_time": "2021-04-08T19:52:12.074962Z",
     "start_time": "2021-04-08T19:51:10.552757Z"
    }
   },
   "outputs": [
    {
     "name": "stdout",
     "output_type": "stream",
     "text": [
      "[0.526796055173066, 0.5375521158416184, 0.4863748321666128, 0.4490039109443148, 0.3990483138558951, 0.3967474268969021, 0.34447245112572455, 0.34387877237398123, 0.30818003325365945, 0.2979174768466257, 0.29162175264264206, 0.2838945219870972, 0.28318223520937064, 0.2774706997807733, 0.2815908294915751, 0.2848564313155017, 0.28292827073213944, 0.2769694049157504, 0.275153569039295, 0.2910319792309053, 0.2886096449070029, 0.29029599766186165, 0.28332408990399516]\n"
     ]
    }
   ],
   "source": [
    "silhouette = []\n",
    "for i in range(2,25):\n",
    "    k_mean = KMeans(n_clusters=i, random_state=32)\n",
    "    k_mean.fit(features)\n",
    "    silhouette.append(silhouette_score(features, k_mean.predict(features)))\n",
    "\n",
    "print(silhouette)"
   ]
  },
  {
   "cell_type": "code",
   "execution_count": 10,
   "metadata": {
    "ExecuteTime": {
     "end_time": "2021-04-08T19:52:12.340364Z",
     "start_time": "2021-04-08T19:52:12.079562Z"
    },
    "scrolled": false
   },
   "outputs": [
    {
     "data": {
      "text/plain": [
       "Text(0.5, 1.0, 'Silhouette Method showing the optimal k')"
      ]
     },
     "execution_count": 10,
     "metadata": {},
     "output_type": "execute_result"
    },
    {
     "data": {
      "image/png": "[encoded data removed]",
      "text/plain": [
       "<Figure size 1152x576 with 1 Axes>"
      ]
     },
     "metadata": {
      "needs_background": "light"
     },
     "output_type": "display_data"
    }
   ],
   "source": [
    "plt.figure(figsize=(16,8))\n",
    "plt.plot(range(2,25), silhouette, 'bx-')\n",
    "plt.xlabel('k')\n",
    "plt.ylabel('silhouette score')\n",
    "plt.xticks(np.arange(min(range(2,25)), max(range(2,25))+1, 1.0))\n",
    "plt.title('Silhouette Method showing the optimal k')"
   ]
  },
  {
   "cell_type": "code",
   "execution_count": 11,
   "metadata": {
    "ExecuteTime": {
     "end_time": "2021-04-08T19:52:12.507355Z",
     "start_time": "2021-04-08T19:52:12.347214Z"
    }
   },
   "outputs": [
    {
     "data": {
      "text/plain": [
       "0    6460\n",
       "1    2328\n",
       "2    5142\n",
       "dtype: int64"
      ]
     },
     "execution_count": 11,
     "metadata": {},
     "output_type": "execute_result"
    }
   ],
   "source": [
    "features_kmean = KMeans(n_clusters=3, random_state=32)\n",
    "features_kmean.fit(features)\n",
    "clusters = features_kmean.predict(features)\n",
    "pd.Series(clusters).value_counts().sort_index()"
   ]
  },
  {
   "cell_type": "code",
   "execution_count": 12,
   "metadata": {
    "ExecuteTime": {
     "end_time": "2021-04-08T19:52:12.836293Z",
     "start_time": "2021-04-08T19:52:12.512266Z"
    }
   },
   "outputs": [
    {
     "data": {
      "text/plain": [
       "0    2064\n",
       "1    3512\n",
       "2    5053\n",
       "3    2006\n",
       "4    1295\n",
       "dtype: int64"
      ]
     },
     "execution_count": 12,
     "metadata": {},
     "output_type": "execute_result"
    }
   ],
   "source": [
    "features_kmean2 = KMeans(n_clusters=5, random_state=32)\n",
    "features_kmean2.fit(features)\n",
    "clusters = features_kmean2.predict(features)\n",
    "pd.Series(clusters).value_counts().sort_index()"
   ]
  },
  {
   "cell_type": "code",
   "execution_count": 14,
   "metadata": {
    "ExecuteTime": {
     "end_time": "2021-04-08T19:56:18.801195Z",
     "start_time": "2021-04-08T19:56:18.785612Z"
    }
   },
   "outputs": [],
   "source": [
    "import pickle\n",
    "\n",
    "pickle_out = open(\"kmeans_features.pickle\",\"wb\")\n",
    "pickle.dump(features_kmean, pickle_out)\n",
    "#pickle_out.close()\n",
    "\n"
   ]
  },
  {
   "cell_type": "code",
   "execution_count": null,
   "metadata": {},
   "outputs": [],
   "source": []
  }
 ],
 "metadata": {
  "kernelspec": {
   "display_name": "Python 3",
   "language": "python",
   "name": "python3"
  },
  "language_info": {
   "codemirror_mode": {
    "name": "ipython",
    "version": 3
   },
   "file_extension": ".py",
   "mimetype": "text/x-python",
   "name": "python",
   "nbconvert_exporter": "python",
   "pygments_lexer": "ipython3",
   "version": "3.8.5"
  },
  "toc": {
   "base_numbering": 1,
   "nav_menu": {},
   "number_sections": true,
   "sideBar": true,
   "skip_h1_title": false,
   "title_cell": "Table of Contents",
   "title_sidebar": "Contents",
   "toc_cell": true,
   "toc_position": {},
   "toc_section_display": true,
   "toc_window_display": false
  },
  "varInspector": {
   "cols": {
    "lenName": 16,
    "lenType": 16,
    "lenVar": 40
   },
   "kernels_config": {
    "python": {
     "delete_cmd_postfix": "",
     "delete_cmd_prefix": "del ",
     "library": "var_list.py",
     "varRefreshCmd": "print(var_dic_list())"
    },
    "r": {
     "delete_cmd_postfix": ") ",
     "delete_cmd_prefix": "rm(",
     "library": "var_list.r",
     "varRefreshCmd": "cat(var_dic_list()) "
    }
   },
   "types_to_exclude": [
    "module",
    "function",
    "builtin_function_or_method",
    "instance",
    "_Feature"
   ],
   "window_display": false
  }
 },
 "nbformat": 4,
 "nbformat_minor": 4
}
