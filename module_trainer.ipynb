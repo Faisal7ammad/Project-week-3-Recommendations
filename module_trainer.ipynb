{
 "cells": [
  {
   "cell_type": "markdown",
   "metadata": {
    "toc": true
   },
   "source": [
    "<h1>Table of Contents<span class=\"tocSkip\"></span></h1>\n",
    "<div class=\"toc\"><ul class=\"toc-item\"></ul></div>"
   ]
  },
  {
   "cell_type": "code",
   "execution_count": 11,
   "metadata": {
    "ExecuteTime": {
     "end_time": "2021-04-09T10:13:29.453951Z",
     "start_time": "2021-04-09T10:13:29.449534Z"
    }
   },
   "outputs": [],
   "source": [
    "import pandas as pd\n",
    "from sklearn.preprocessing import StandardScaler\n",
    "from sklearn.cluster import KMeans\n",
    "from sklearn.metrics import silhouette_score"
   ]
  },
  {
   "cell_type": "code",
   "execution_count": 12,
   "metadata": {
    "ExecuteTime": {
     "end_time": "2021-04-09T10:13:29.586451Z",
     "start_time": "2021-04-09T10:13:29.466057Z"
    }
   },
   "outputs": [],
   "source": [
    "features = pd.read_csv(\"/Users/FH/Desktop/Ironhack/Github/Project-week-3-Recommendations/Data/audio_features.csv\")"
   ]
  },
  {
   "cell_type": "code",
   "execution_count": 13,
   "metadata": {
    "ExecuteTime": {
     "end_time": "2021-04-09T10:13:29.596486Z",
     "start_time": "2021-04-09T10:13:29.588842Z"
    }
   },
   "outputs": [],
   "source": [
    "features = features.drop(columns = [\"type\", \"id\", \"uri\", \"track_href\", \"analysis_url\", \"duration_ms\", \"time_signature\"])\n"
   ]
  },
  {
   "cell_type": "code",
   "execution_count": 14,
   "metadata": {
    "ExecuteTime": {
     "end_time": "2021-04-09T10:13:29.612411Z",
     "start_time": "2021-04-09T10:13:29.603269Z"
    }
   },
   "outputs": [],
   "source": [
    "scaler = StandardScaler()\n",
    "scaler.fit(features)\n",
    "standardized_features = scaler.transform(features)"
   ]
  },
  {
   "cell_type": "code",
   "execution_count": 15,
   "metadata": {
    "ExecuteTime": {
     "end_time": "2021-04-09T10:13:29.637671Z",
     "start_time": "2021-04-09T10:13:29.618114Z"
    },
    "scrolled": false
   },
   "outputs": [
    {
     "data": {
      "text/html": [
       "<div>\n",
       "<style scoped>\n",
       "    .dataframe tbody tr th:only-of-type {\n",
       "        vertical-align: middle;\n",
       "    }\n",
       "\n",
       "    .dataframe tbody tr th {\n",
       "        vertical-align: top;\n",
       "    }\n",
       "\n",
       "    .dataframe thead th {\n",
       "        text-align: right;\n",
       "    }\n",
       "</style>\n",
       "<table border=\"1\" class=\"dataframe\">\n",
       "  <thead>\n",
       "    <tr style=\"text-align: right;\">\n",
       "      <th></th>\n",
       "      <th>danceability</th>\n",
       "      <th>energy</th>\n",
       "      <th>key</th>\n",
       "      <th>loudness</th>\n",
       "      <th>mode</th>\n",
       "      <th>speechiness</th>\n",
       "      <th>acousticness</th>\n",
       "      <th>instrumentalness</th>\n",
       "      <th>liveness</th>\n",
       "      <th>valence</th>\n",
       "      <th>tempo</th>\n",
       "    </tr>\n",
       "  </thead>\n",
       "  <tbody>\n",
       "    <tr>\n",
       "      <th>0</th>\n",
       "      <td>0.028497</td>\n",
       "      <td>0.533915</td>\n",
       "      <td>1.582833</td>\n",
       "      <td>0.882378</td>\n",
       "      <td>-1.227640</td>\n",
       "      <td>-0.348703</td>\n",
       "      <td>-0.603735</td>\n",
       "      <td>-0.360096</td>\n",
       "      <td>-0.556411</td>\n",
       "      <td>-0.835679</td>\n",
       "      <td>-0.542333</td>\n",
       "    </tr>\n",
       "    <tr>\n",
       "      <th>1</th>\n",
       "      <td>0.207780</td>\n",
       "      <td>0.730240</td>\n",
       "      <td>1.026761</td>\n",
       "      <td>0.581160</td>\n",
       "      <td>-1.227640</td>\n",
       "      <td>-0.702013</td>\n",
       "      <td>-0.067184</td>\n",
       "      <td>-0.303722</td>\n",
       "      <td>0.181267</td>\n",
       "      <td>-0.273403</td>\n",
       "      <td>0.126827</td>\n",
       "    </tr>\n",
       "    <tr>\n",
       "      <th>2</th>\n",
       "      <td>0.431885</td>\n",
       "      <td>0.115434</td>\n",
       "      <td>0.470689</td>\n",
       "      <td>0.246125</td>\n",
       "      <td>0.814571</td>\n",
       "      <td>-0.620907</td>\n",
       "      <td>-0.719243</td>\n",
       "      <td>-0.360052</td>\n",
       "      <td>0.472456</td>\n",
       "      <td>-0.055206</td>\n",
       "      <td>-0.353527</td>\n",
       "    </tr>\n",
       "    <tr>\n",
       "      <th>3</th>\n",
       "      <td>0.547138</td>\n",
       "      <td>-0.334046</td>\n",
       "      <td>0.748725</td>\n",
       "      <td>0.283699</td>\n",
       "      <td>0.814571</td>\n",
       "      <td>-0.547578</td>\n",
       "      <td>-0.346224</td>\n",
       "      <td>-0.360096</td>\n",
       "      <td>-0.575823</td>\n",
       "      <td>-1.624545</td>\n",
       "      <td>-0.240059</td>\n",
       "    </tr>\n",
       "    <tr>\n",
       "      <th>4</th>\n",
       "      <td>-1.386562</td>\n",
       "      <td>-1.434497</td>\n",
       "      <td>0.192654</td>\n",
       "      <td>-0.671307</td>\n",
       "      <td>-1.227640</td>\n",
       "      <td>0.922325</td>\n",
       "      <td>1.961446</td>\n",
       "      <td>-0.360096</td>\n",
       "      <td>-0.594589</td>\n",
       "      <td>-1.150386</td>\n",
       "      <td>2.047207</td>\n",
       "    </tr>\n",
       "    <tr>\n",
       "      <th>...</th>\n",
       "      <td>...</td>\n",
       "      <td>...</td>\n",
       "      <td>...</td>\n",
       "      <td>...</td>\n",
       "      <td>...</td>\n",
       "      <td>...</td>\n",
       "      <td>...</td>\n",
       "      <td>...</td>\n",
       "      <td>...</td>\n",
       "      <td>...</td>\n",
       "      <td>...</td>\n",
       "    </tr>\n",
       "    <tr>\n",
       "      <th>13942</th>\n",
       "      <td>1.161825</td>\n",
       "      <td>-0.700863</td>\n",
       "      <td>-1.475562</td>\n",
       "      <td>0.483781</td>\n",
       "      <td>0.814571</td>\n",
       "      <td>-0.555356</td>\n",
       "      <td>-0.075464</td>\n",
       "      <td>-0.359989</td>\n",
       "      <td>-0.876071</td>\n",
       "      <td>1.866606</td>\n",
       "      <td>-0.245717</td>\n",
       "    </tr>\n",
       "    <tr>\n",
       "      <th>13943</th>\n",
       "      <td>0.873690</td>\n",
       "      <td>-0.416709</td>\n",
       "      <td>1.304797</td>\n",
       "      <td>-0.708881</td>\n",
       "      <td>0.814571</td>\n",
       "      <td>-0.436475</td>\n",
       "      <td>-0.005083</td>\n",
       "      <td>-0.360096</td>\n",
       "      <td>-0.610119</td>\n",
       "      <td>1.778488</td>\n",
       "      <td>-0.169640</td>\n",
       "    </tr>\n",
       "    <tr>\n",
       "      <th>13944</th>\n",
       "      <td>0.425482</td>\n",
       "      <td>0.291093</td>\n",
       "      <td>0.192654</td>\n",
       "      <td>0.100839</td>\n",
       "      <td>0.814571</td>\n",
       "      <td>-0.519803</td>\n",
       "      <td>0.793949</td>\n",
       "      <td>-0.360096</td>\n",
       "      <td>2.672549</td>\n",
       "      <td>1.614840</td>\n",
       "      <td>-0.425018</td>\n",
       "    </tr>\n",
       "    <tr>\n",
       "      <th>13945</th>\n",
       "      <td>1.027362</td>\n",
       "      <td>0.099935</td>\n",
       "      <td>-1.475562</td>\n",
       "      <td>-0.029418</td>\n",
       "      <td>0.814571</td>\n",
       "      <td>-0.634239</td>\n",
       "      <td>1.096173</td>\n",
       "      <td>0.320281</td>\n",
       "      <td>-0.644414</td>\n",
       "      <td>1.887586</td>\n",
       "      <td>-0.227484</td>\n",
       "    </tr>\n",
       "    <tr>\n",
       "      <th>13946</th>\n",
       "      <td>-1.008786</td>\n",
       "      <td>-0.091224</td>\n",
       "      <td>0.192654</td>\n",
       "      <td>-0.816280</td>\n",
       "      <td>-1.227640</td>\n",
       "      <td>0.233481</td>\n",
       "      <td>0.272301</td>\n",
       "      <td>-0.360081</td>\n",
       "      <td>-0.562882</td>\n",
       "      <td>1.363074</td>\n",
       "      <td>-1.217003</td>\n",
       "    </tr>\n",
       "  </tbody>\n",
       "</table>\n",
       "<p>13947 rows × 11 columns</p>\n",
       "</div>"
      ],
      "text/plain": [
       "       danceability    energy       key  loudness      mode  speechiness  \\\n",
       "0          0.028497  0.533915  1.582833  0.882378 -1.227640    -0.348703   \n",
       "1          0.207780  0.730240  1.026761  0.581160 -1.227640    -0.702013   \n",
       "2          0.431885  0.115434  0.470689  0.246125  0.814571    -0.620907   \n",
       "3          0.547138 -0.334046  0.748725  0.283699  0.814571    -0.547578   \n",
       "4         -1.386562 -1.434497  0.192654 -0.671307 -1.227640     0.922325   \n",
       "...             ...       ...       ...       ...       ...          ...   \n",
       "13942      1.161825 -0.700863 -1.475562  0.483781  0.814571    -0.555356   \n",
       "13943      0.873690 -0.416709  1.304797 -0.708881  0.814571    -0.436475   \n",
       "13944      0.425482  0.291093  0.192654  0.100839  0.814571    -0.519803   \n",
       "13945      1.027362  0.099935 -1.475562 -0.029418  0.814571    -0.634239   \n",
       "13946     -1.008786 -0.091224  0.192654 -0.816280 -1.227640     0.233481   \n",
       "\n",
       "       acousticness  instrumentalness  liveness   valence     tempo  \n",
       "0         -0.603735         -0.360096 -0.556411 -0.835679 -0.542333  \n",
       "1         -0.067184         -0.303722  0.181267 -0.273403  0.126827  \n",
       "2         -0.719243         -0.360052  0.472456 -0.055206 -0.353527  \n",
       "3         -0.346224         -0.360096 -0.575823 -1.624545 -0.240059  \n",
       "4          1.961446         -0.360096 -0.594589 -1.150386  2.047207  \n",
       "...             ...               ...       ...       ...       ...  \n",
       "13942     -0.075464         -0.359989 -0.876071  1.866606 -0.245717  \n",
       "13943     -0.005083         -0.360096 -0.610119  1.778488 -0.169640  \n",
       "13944      0.793949         -0.360096  2.672549  1.614840 -0.425018  \n",
       "13945      1.096173          0.320281 -0.644414  1.887586 -0.227484  \n",
       "13946      0.272301         -0.360081 -0.562882  1.363074 -1.217003  \n",
       "\n",
       "[13947 rows x 11 columns]"
      ]
     },
     "execution_count": 15,
     "metadata": {},
     "output_type": "execute_result"
    }
   ],
   "source": [
    "pd.DataFrame(standardized_features, columns=features.columns)"
   ]
  },
  {
   "cell_type": "code",
   "execution_count": 16,
   "metadata": {
    "ExecuteTime": {
     "end_time": "2021-04-09T10:13:41.569848Z",
     "start_time": "2021-04-09T10:13:29.641530Z"
    }
   },
   "outputs": [
    {
     "name": "stdout",
     "output_type": "stream",
     "text": [
      "[4269523.256098556, 1858632.6782150841, 1339258.7747409637, 967037.8495849695, 806963.7111614735, 680119.6715391836, 603694.9258905911, 538348.0368461311, 502752.9682525506, 471845.4225699935, 443113.4226141879, 421310.5762310463, 403968.8126146336, 387149.4642905922, 369876.83704935445, 353386.0541424585, 340739.4936535507, 329296.3083153385, 320214.09211719653, 312194.4032461118, 300649.46369821957, 292229.79711265146, 281550.49547107413]\n"
     ]
    }
   ],
   "source": [
    "inertia = []\n",
    "for i in range(2,25):\n",
    "    k_mean = KMeans(n_clusters=i, random_state=32)\n",
    "    k_mean.fit(features)\n",
    "    inertia.append(k_mean.inertia_)\n",
    "\n",
    "print(inertia)"
   ]
  },
  {
   "cell_type": "code",
   "execution_count": 17,
   "metadata": {
    "ExecuteTime": {
     "end_time": "2021-04-09T10:13:42.764252Z",
     "start_time": "2021-04-09T10:13:41.572535Z"
    }
   },
   "outputs": [
    {
     "data": {
      "text/plain": [
       "Text(0.5, 1.0, 'Elbow Method showing the optimal k')"
      ]
     },
     "execution_count": 17,
     "metadata": {},
     "output_type": "execute_result"
    },
    {
     "data": {
      "image/png": "[encoded data removed]",
      "text/plain": [
       "<Figure size 1152x576 with 1 Axes>"
      ]
     },
     "metadata": {
      "needs_background": "light"
     },
     "output_type": "display_data"
    }
   ],
   "source": [
    "import matplotlib.pyplot as plt\n",
    "%matplotlib inline\n",
    "\n",
    "plt.figure(figsize=(16,8))\n",
    "plt.plot(range(2,25), inertia, 'bx-')\n",
    "plt.xlabel('k')\n",
    "plt.ylabel('inertia')\n",
    "plt.xticks(np.arange(min(range(2,25)), max(range(2,25))+1, 1.0))\n",
    "plt.title('Elbow Method showing the optimal k')"
   ]
  },
  {
   "cell_type": "code",
   "execution_count": 18,
   "metadata": {
    "ExecuteTime": {
     "end_time": "2021-04-09T10:14:49.499738Z",
     "start_time": "2021-04-09T10:13:42.767761Z"
    }
   },
   "outputs": [
    {
     "name": "stdout",
     "output_type": "stream",
     "text": [
      "[0.5267578462121172, 0.5374904373784485, 0.486181250753854, 0.4473378292362275, 0.41165166784511487, 0.39813335586618, 0.3782432607053077, 0.34167644768420413, 0.3084297114959244, 0.2989382363447164, 0.2909675859533074, 0.2828074832095758, 0.2826959180018409, 0.27197401919498687, 0.28365760124652156, 0.27863725558416713, 0.2848381772362921, 0.28577702161591495, 0.2812558161595907, 0.28621385521960774, 0.28332103977889306, 0.276902150130931, 0.2738182654953472]\n"
     ]
    }
   ],
   "source": [
    "silhouette = []\n",
    "for i in range(2,25):\n",
    "    k_mean = KMeans(n_clusters=i, random_state=32)\n",
    "    k_mean.fit(features)\n",
    "    silhouette.append(silhouette_score(features, k_mean.predict(features)))\n",
    "\n",
    "print(silhouette)"
   ]
  },
  {
   "cell_type": "code",
   "execution_count": 19,
   "metadata": {
    "ExecuteTime": {
     "end_time": "2021-04-09T10:14:49.731301Z",
     "start_time": "2021-04-09T10:14:49.502424Z"
    },
    "scrolled": false
   },
   "outputs": [
    {
     "data": {
      "text/plain": [
       "Text(0.5, 1.0, 'Silhouette Method showing the optimal k')"
      ]
     },
     "execution_count": 19,
     "metadata": {},
     "output_type": "execute_result"
    },
    {
     "data": {
      "image/png": "[encoded data removed]",
      "text/plain": [
       "<Figure size 1152x576 with 1 Axes>"
      ]
     },
     "metadata": {
      "needs_background": "light"
     },
     "output_type": "display_data"
    }
   ],
   "source": [
    "plt.figure(figsize=(16,8))\n",
    "plt.plot(range(2,25), silhouette, 'bx-')\n",
    "plt.xlabel('k')\n",
    "plt.ylabel('silhouette score')\n",
    "plt.xticks(np.arange(min(range(2,25)), max(range(2,25))+1, 1.0))\n",
    "plt.title('Silhouette Method showing the optimal k')"
   ]
  },
  {
   "cell_type": "code",
   "execution_count": 20,
   "metadata": {
    "ExecuteTime": {
     "end_time": "2021-04-09T10:14:49.869248Z",
     "start_time": "2021-04-09T10:14:49.739614Z"
    }
   },
   "outputs": [
    {
     "data": {
      "text/plain": [
       "0    5149\n",
       "1    2332\n",
       "2    6466\n",
       "dtype: int64"
      ]
     },
     "execution_count": 20,
     "metadata": {},
     "output_type": "execute_result"
    }
   ],
   "source": [
    "features_kmean = KMeans(n_clusters=3, random_state=32)\n",
    "features_kmean.fit(features)\n",
    "clusters = features_kmean.predict(features)\n",
    "pd.Series(clusters).value_counts().sort_index()"
   ]
  },
  {
   "cell_type": "code",
   "execution_count": 21,
   "metadata": {
    "ExecuteTime": {
     "end_time": "2021-04-09T10:14:50.071772Z",
     "start_time": "2021-04-09T10:14:49.873699Z"
    }
   },
   "outputs": [
    {
     "data": {
      "text/plain": [
       "0    1339\n",
       "1    4948\n",
       "2    2018\n",
       "3    2139\n",
       "4    3503\n",
       "dtype: int64"
      ]
     },
     "execution_count": 21,
     "metadata": {},
     "output_type": "execute_result"
    }
   ],
   "source": [
    "features_kmean2 = KMeans(n_clusters=5, random_state=32)\n",
    "features_kmean2.fit(features)\n",
    "clusters = features_kmean2.predict(features)\n",
    "pd.Series(clusters).value_counts().sort_index()"
   ]
  },
  {
   "cell_type": "code",
   "execution_count": 22,
   "metadata": {
    "ExecuteTime": {
     "end_time": "2021-04-09T10:14:50.088400Z",
     "start_time": "2021-04-09T10:14:50.076074Z"
    }
   },
   "outputs": [],
   "source": [
    "import pickle\n",
    "\n",
    "pickle_out = open(\"kmeans_features.pickle\",\"wb\")\n",
    "pickle.dump(features_kmean, pickle_out)\n",
    "#pickle_out.close()\n",
    "\n"
   ]
  },
  {
   "cell_type": "code",
   "execution_count": 23,
   "metadata": {
    "ExecuteTime": {
     "end_time": "2021-04-09T10:14:50.097287Z",
     "start_time": "2021-04-09T10:14:50.091253Z"
    }
   },
   "outputs": [],
   "source": [
    "import pickle\n",
    "\n",
    "pickle_out = open(\"scaler.pickle\",\"wb\")\n",
    "pickle.dump(scaler, pickle_out)\n",
    "#pickle_out.close()\n",
    "\n"
   ]
  }
 ],
 "metadata": {
  "kernelspec": {
   "display_name": "Python 3",
   "language": "python",
   "name": "python3"
  },
  "language_info": {
   "codemirror_mode": {
    "name": "ipython",
    "version": 3
   },
   "file_extension": ".py",
   "mimetype": "text/x-python",
   "name": "python",
   "nbconvert_exporter": "python",
   "pygments_lexer": "ipython3",
   "version": "3.8.5"
  },
  "toc": {
   "base_numbering": 1,
   "nav_menu": {},
   "number_sections": true,
   "sideBar": true,
   "skip_h1_title": false,
   "title_cell": "Table of Contents",
   "title_sidebar": "Contents",
   "toc_cell": true,
   "toc_position": {},
   "toc_section_display": true,
   "toc_window_display": false
  },
  "varInspector": {
   "cols": {
    "lenName": 16,
    "lenType": 16,
    "lenVar": 40
   },
   "kernels_config": {
    "python": {
     "delete_cmd_postfix": "",
     "delete_cmd_prefix": "del ",
     "library": "var_list.py",
     "varRefreshCmd": "print(var_dic_list())"
    },
    "r": {
     "delete_cmd_postfix": ") ",
     "delete_cmd_prefix": "rm(",
     "library": "var_list.r",
     "varRefreshCmd": "cat(var_dic_list()) "
    }
   },
   "types_to_exclude": [
    "module",
    "function",
    "builtin_function_or_method",
    "instance",
    "_Feature"
   ],
   "window_display": false
  }
 },
 "nbformat": 4,
 "nbformat_minor": 4
}
